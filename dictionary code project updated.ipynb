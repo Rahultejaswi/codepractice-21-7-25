{
 "cells": [
  {
   "cell_type": "code",
   "execution_count": 13,
   "id": "caef32cb-bb8a-487d-bec9-06215258f65b",
   "metadata": {},
   "outputs": [
    {
     "name": "stdout",
     "output_type": "stream",
     "text": [
      "Let us assume this to be a random string\n"
     ]
    }
   ],
   "source": [
    "#Here, we try to count the number of instances of each character of a \n",
    "pseudo_random_string=\"Let us assume this to be a random string\"\n",
    "print(pseudo_random_string)\n"
   ]
  },
  {
   "cell_type": "code",
   "execution_count": 14,
   "id": "e7236e40-3c91-4c04-8cda-e77c2705d041",
   "metadata": {},
   "outputs": [
    {
     "name": "stdout",
     "output_type": "stream",
     "text": [
      "{'L': 1, 'e': 3, 't': 4, ' ': 8, 'u': 2, 's': 5, 'a': 3, 'm': 2, 'h': 1, 'i': 2, 'o': 2, 'b': 1, 'r': 2, 'n': 2, 'd': 1, 'g': 1}\n"
     ]
    }
   ],
   "source": [
    "letter_count={}\n",
    "for letter in pseudo_random_string:\n",
    "    if letter not in letter_count:\n",
    "        letter_count[letter]=0\n",
    "    letter_count[letter]=letter_count[letter]+1\n",
    "print(letter_count)\n",
    "\n",
    "        "
   ]
  },
  {
   "cell_type": "code",
   "execution_count": null,
   "id": "c6ab9bed-6a01-4ad8-9745-4262ae39ab13",
   "metadata": {},
   "outputs": [],
   "source": []
  },
  {
   "cell_type": "code",
   "execution_count": null,
   "id": "fb2a50c6-f550-4169-96b0-4f0d5010f9b0",
   "metadata": {},
   "outputs": [],
   "source": []
  }
 ],
 "metadata": {
  "kernelspec": {
   "display_name": "Python [conda env:base] *",
   "language": "python",
   "name": "conda-base-py"
  },
  "language_info": {
   "codemirror_mode": {
    "name": "ipython",
    "version": 3
   },
   "file_extension": ".py",
   "mimetype": "text/x-python",
   "name": "python",
   "nbconvert_exporter": "python",
   "pygments_lexer": "ipython3",
   "version": "3.13.5"
  }
 },
 "nbformat": 4,
 "nbformat_minor": 5
}
